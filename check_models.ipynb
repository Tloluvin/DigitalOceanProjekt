{
 "cells": [
  {
   "cell_type": "markdown",
   "id": "d2c2b454",
   "metadata": {},
   "source": [
    "# Sprawdzenie dostępnych modeli"
   ]
  },
  {
   "cell_type": "code",
   "execution_count": null,
   "id": "b5d9a432",
   "metadata": {},
   "outputs": [],
   "source": [
    "import google.generativeai as genai\n",
    "import os\n",
    "from dotenv import load_dotenv\n",
    "\n",
    "# jeśli używasz .env\n",
    "load_dotenv()\n",
    "\n",
    "# konfiguracja API\n",
    "genai.configure(api_key=os.getenv(\"GOOGLE_API_KEY\"))\n",
    "\n",
    "# pobranie listy modeli\n",
    "models = genai.list_models()\n",
    "\n",
    "print(\"\\n=== DOSTĘPNE MODELE GEMINI DLA TEGO KLUCZA ===\\n\")\n",
    "for m in models:\n",
    "    print(f\"🧠 {m.name}\")\n",
    "    print(f\"   → supports generateContent: {'generateContent' in getattr(m, 'supported_generation_methods', [])}\")\n",
    "    print(f\"   → display name: {getattr(m, 'display_name', '---')}\")\n",
    "    print(f\"   → description: {getattr(m, 'description', '---')}\\n\")\n"
   ]
  },
  {
   "cell_type": "code",
   "execution_count": null,
   "id": "945e47a8",
   "metadata": {},
   "outputs": [],
   "source": []
  }
 ],
 "metadata": {
  "kernelspec": {
   "display_name": "zadanie_modul9",
   "language": "python",
   "name": "python3"
  },
  "language_info": {
   "codemirror_mode": {
    "name": "ipython",
    "version": 3
   },
   "file_extension": ".py",
   "mimetype": "text/x-python",
   "name": "python",
   "nbconvert_exporter": "python",
   "pygments_lexer": "ipython3",
   "version": "3.10.18"
  }
 },
 "nbformat": 4,
 "nbformat_minor": 5
}
